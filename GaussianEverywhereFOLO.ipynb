{
  "nbformat": 4,
  "nbformat_minor": 0,
  "metadata": {
    "colab": {
      "provenance": [],
      "machine_shape": "hm",
      "gpuType": "T4",
      "authorship_tag": "ABX9TyPFrIe2RRlB74p/nhK0Sn7Y",
      "include_colab_link": true
    },
    "kernelspec": {
      "name": "python3",
      "display_name": "Python 3"
    },
    "language_info": {
      "name": "python"
    },
    "accelerator": "GPU"
  },
  "cells": [
    {
      "cell_type": "markdown",
      "metadata": {
        "id": "view-in-github",
        "colab_type": "text"
      },
      "source": [
        "<a href=\"https://colab.research.google.com/github/m3-learning/FOLO_RHEED/blob/main/GaussianEverywhereFOLO.ipynb\" target=\"_parent\"><img src=\"https://colab.research.google.com/assets/colab-badge.svg\" alt=\"Open In Colab\"/></a>"
      ]
    },
    {
      "cell_type": "code",
      "execution_count": 1,
      "metadata": {
        "id": "mFC5nCt9Yt9F"
      },
      "outputs": [],
      "source": [
        "import numpy as np\n",
        "import cv2\n",
        "\n",
        "def generate_gaussian_blob(image_size, mean, cov, angle):\n",
        "    x, y = np.meshgrid(np.linspace(0, image_size[0] - 1, image_size[0]),\n",
        "                       np.linspace(0, image_size[1] - 1, image_size[1]))\n",
        "    x -= mean[0]\n",
        "    y -= mean[1]\n",
        "\n",
        "    cos_angle = np.cos(angle)\n",
        "    sin_angle = np.sin(angle)\n",
        "\n",
        "    x_rot = cos_angle * x + sin_angle * y\n",
        "    y_rot = -sin_angle * x + cos_angle * y\n",
        "\n",
        "    exponent = (x_rot ** 2) / (2 * cov[0] ** 2) + (y_rot ** 2) / (2 * cov[1] ** 2)\n",
        "    blob = np.exp(-exponent)\n",
        "\n",
        "    return blob\n",
        "\n",
        "def create_training_data(num_samples, image_size=(48, 128), grid_size=(4, 8), num_blobs=5, noise_std=0.1):\n",
        "    X = np.zeros((num_samples, image_size[0], image_size[1], 1), dtype=np.float32)\n",
        "    y = np.zeros((num_samples, grid_size[0], grid_size[1], 5), dtype=np.float32)\n",
        "\n",
        "    grid_height, grid_width = image_size[0] // grid_size[0], image_size[1] // grid_size[1]\n",
        "\n",
        "    for i in range(num_samples):\n",
        "        image = np.zeros((image_size[0], image_size[1]), dtype=np.float32)\n",
        "        blob_params = []\n",
        "\n",
        "        # Generate y-values within 20% of each other\n",
        "        base_y = np.random.uniform(0.4 * image_size[0], 0.6 * image_size[0])\n",
        "        y_values = np.random.uniform(base_y * 0.8, base_y * 1.2, num_blobs)\n",
        "\n",
        "        # Generate evenly spaced x-values with slight variation\n",
        "        x_values = np.linspace(0, image_size[1], num_blobs + 2)[1:-1]\n",
        "        x_values = x_values + np.random.uniform(-4, 4, num_blobs)\n",
        "\n",
        "        for j in range(num_blobs):\n",
        "            mean_x = x_values[j]\n",
        "            mean_y = y_values[j]\n",
        "            cov_x = np.random.uniform(2, 6)\n",
        "            cov_y = np.random.uniform(1, 5)\n",
        "            theta = np.random.uniform(-10, 10) * np.pi / 180  # Cap rotation at 10 degrees\n",
        "\n",
        "            blob = generate_gaussian_blob((image_size[1], image_size[0]), (mean_x, mean_y), (cov_x, cov_y), theta)\n",
        "            image += blob\n",
        "\n",
        "            grid_x = int(mean_x // grid_width)\n",
        "            grid_y = int(mean_y // grid_height)\n",
        "\n",
        "            if grid_x < grid_size[1] and grid_y < grid_size[0]:\n",
        "                y[i, grid_y, grid_x, :] = [mean_x / image_size[1], mean_y / image_size[0], cov_x, cov_y, theta]\n",
        "\n",
        "        # Add Gaussian noise to the image\n",
        "        noise = np.random.normal(0, noise_std, image_size)\n",
        "        image += noise\n",
        "\n",
        "        # Normalize image to have pixel values between 0 and 1\n",
        "        X[i, :, :, 0] = np.clip(image, 0, 1)\n",
        "\n",
        "    return X, y\n",
        "\n",
        "# Generate the training data with noise\n",
        "num_samples = 10\n",
        "X_sample, y_sample = create_training_data(num_samples)"
      ]
    },
    {
      "cell_type": "code",
      "source": [
        "import numpy as np\n",
        "import cv2\n",
        "import matplotlib.pyplot as plt\n",
        "\n",
        "def visualize_generated_data(X, y, image_index=0):\n",
        "    fig, ax = plt.subplots(figsize=(12, 4))\n",
        "\n",
        "    # Display the image with a black background\n",
        "    ax.imshow(X[image_index, :, :, 0], cmap='hot', vmin=0, vmax=1)\n",
        "    ax.set_facecolor('black')\n",
        "    ax.set_title('Generated Training Data with Gaussian Blobs')\n",
        "\n",
        "    # Create an overlay image with a black background\n",
        "    overlay = np.zeros_like(X[image_index, :, :, 0])\n",
        "\n",
        "    # Overlay the Gaussian blobs\n",
        "    for grid_y in range(y.shape[1]):\n",
        "        for grid_x in range(y.shape[2]):\n",
        "            params = y[image_index, grid_y, grid_x]\n",
        "            mean_x, mean_y = params[0] * X.shape[2], params[1] * X.shape[1]\n",
        "            cov_x, cov_y, theta = params[2], params[3], params[4]\n",
        "\n",
        "            if cov_x > 0 and cov_y > 0:\n",
        "                center = (int(mean_x), int(mean_y))\n",
        "                axes = (int(cov_x * 2), int(cov_y * 2))\n",
        "                angle = np.degrees(theta)\n",
        "                ellipse = cv2.ellipse(overlay, center, axes, angle, 0, 360, (255, 255, 255), 1)\n",
        "\n",
        "\n",
        "    # Remove axis\n",
        "    ax.axis('off')\n",
        "\n",
        "    plt.show()\n",
        "\n",
        "# Assuming X_sample and y_sample are defined\n",
        "visualize_generated_data(X_sample, y_sample, image_index=0)"
      ],
      "metadata": {
        "colab": {
          "base_uri": "https://localhost:8080/",
          "height": 367
        },
        "id": "pnF_GjP3btuq",
        "outputId": "bdc212a7-55be-4903-cf02-b8803f587fa8"
      },
      "execution_count": 2,
      "outputs": [
        {
          "output_type": "display_data",
          "data": {
            "text/plain": [
              "<Figure size 1200x400 with 1 Axes>"
            ],
            "image/png": "[encoded data removed]"
          },
          "metadata": {}
        }
      ]
    },
    {
      "cell_type": "code",
      "source": [
        "import numpy as np\n",
        "import tensorflow as tf\n",
        "from tensorflow.keras.models import Model\n",
        "from tensorflow.keras.layers import Input, Conv2D, BatchNormalization, LeakyReLU, Flatten, Dense, Reshape, MaxPool2D\n",
        "\n",
        "def create_yolo_style_model(input_shape=(48, 128, 1), grid_size=(4, 8), params_per_blob=5):\n",
        "    inputs = Input(shape=input_shape)\n",
        "\n",
        "    x = Conv2D(8, (3, 3), padding='same')(inputs)\n",
        "    x = MaxPool2D()(x)\n",
        "    x = BatchNormalization()(x)\n",
        "    x = LeakyReLU(alpha=0.1)(x)\n",
        "\n",
        "    x = Conv2D(16, (3, 3), padding='same')(x)\n",
        "    x = MaxPool2D()(x)\n",
        "    x = BatchNormalization()(x)\n",
        "    x = LeakyReLU(alpha=0.1)(x)\n",
        "\n",
        "    x = Conv2D(16, (3, 3), padding='same')(x)\n",
        "    x = MaxPool2D()(x)\n",
        "    x = BatchNormalization()(x)\n",
        "    x = LeakyReLU(alpha=0.1)(x)\n",
        "\n",
        "    x = Conv2D(32, (3, 3), padding='same')(x)\n",
        "    x = MaxPool2D()(x)\n",
        "    x = BatchNormalization()(x)\n",
        "    x = LeakyReLU(alpha=0.1)(x)\n",
        "\n",
        "    x = Flatten()(x)\n",
        "\n",
        "    grid_cells = grid_size[0] * grid_size[1]\n",
        "    output_units = grid_cells * params_per_blob\n",
        "    x = Dense(128)(x)\n",
        "    x = LeakyReLU(alpha=0.1)(x)\n",
        "\n",
        "    x = Dense(output_units)(x)\n",
        "    outputs = Reshape((grid_size[0], grid_size[1], params_per_blob))(x)\n",
        "\n",
        "    model = Model(inputs=inputs, outputs=outputs)\n",
        "    return model\n",
        "\n",
        "import tensorflow as tf\n",
        "\n",
        "def custom_loss(y_true, y_pred):\n",
        "    # Split the true and predicted values into their respective components\n",
        "    mean_x_true, mean_y_true, cov_x_true, cov_y_true, theta_true = tf.split(y_true, 5, axis=-1)\n",
        "    mean_x_pred, mean_y_pred, cov_x_pred, cov_y_pred, theta_pred = tf.split(y_pred, 5, axis=-1)\n",
        "\n",
        "    # Define the ranges for normalization (replace these with actual ranges if known)\n",
        "    mean_x_range = 127.0  # Replace with the actual range of mean_x\n",
        "    mean_y_range = 47.0  # Replace with the actual range of mean_y\n",
        "    cov_x_range = 5.0   # Replace with the actual range of cov_x\n",
        "    cov_y_range = 6.0  # Replace with the actual range of cov_y\n",
        "    theta_range = 0.175   # Replace with the actual range of theta\n",
        "\n",
        "    # Calculate the individual losses\n",
        "    loss_mean_x = tf.reduce_mean(tf.square((mean_x_true - mean_x_pred) / mean_x_range))\n",
        "    loss_mean_y = tf.reduce_mean(tf.square((mean_y_true - mean_y_pred) / mean_y_range))\n",
        "    loss_cov_x = tf.reduce_mean(tf.square((cov_x_true - cov_x_pred) / cov_x_range))\n",
        "    loss_cov_y = tf.reduce_mean(tf.square((cov_y_true - cov_y_pred) / cov_y_range))\n",
        "    loss_theta = tf.reduce_mean(tf.square((theta_true - theta_pred) / theta_range))\n",
        "\n",
        "    # Sum up the normalized losses to get the total loss\n",
        "    total_loss = loss_mean_x + loss_mean_y + loss_cov_x + loss_cov_y + loss_theta\n",
        "\n",
        "    return total_loss\n",
        "\n",
        "# Create the model\n",
        "model = create_yolo_style_model()\n",
        "model.compile(optimizer='adam', loss=custom_loss)\n",
        "model.summary()"
      ],
      "metadata": {
        "colab": {
          "base_uri": "https://localhost:8080/"
        },
        "id": "43HoVPsgY7R6",
        "outputId": "053c5ae1-8f06-4ee8-bf78-e24fe2ca259d"
      },
      "execution_count": 6,
      "outputs": [
        {
          "output_type": "stream",
          "name": "stdout",
          "text": [
            "Model: \"model_2\"\n",
            "_________________________________________________________________\n",
            " Layer (type)                Output Shape              Param #   \n",
            "=================================================================\n",
            " input_3 (InputLayer)        [(None, 48, 128, 1)]      0         \n",
            "                                                                 \n",
            " conv2d_8 (Conv2D)           (None, 48, 128, 8)        80        \n",
            "                                                                 \n",
            " max_pooling2d_8 (MaxPoolin  (None, 24, 64, 8)         0         \n",
            " g2D)                                                            \n",
            "                                                                 \n",
            " batch_normalization_8 (Bat  (None, 24, 64, 8)         32        \n",
            " chNormalization)                                                \n",
            "                                                                 \n",
            " leaky_re_lu_10 (LeakyReLU)  (None, 24, 64, 8)         0         \n",
            "                                                                 \n",
            " conv2d_9 (Conv2D)           (None, 24, 64, 16)        1168      \n",
            "                                                                 \n",
            " max_pooling2d_9 (MaxPoolin  (None, 12, 32, 16)        0         \n",
            " g2D)                                                            \n",
            "                                                                 \n",
            " batch_normalization_9 (Bat  (None, 12, 32, 16)        64        \n",
            " chNormalization)                                                \n",
            "                                                                 \n",
            " leaky_re_lu_11 (LeakyReLU)  (None, 12, 32, 16)        0         \n",
            "                                                                 \n",
            " conv2d_10 (Conv2D)          (None, 12, 32, 16)        2320      \n",
            "                                                                 \n",
            " max_pooling2d_10 (MaxPooli  (None, 6, 16, 16)         0         \n",
            " ng2D)                                                           \n",
            "                                                                 \n",
            " batch_normalization_10 (Ba  (None, 6, 16, 16)         64        \n",
            " tchNormalization)                                               \n",
            "                                                                 \n",
            " leaky_re_lu_12 (LeakyReLU)  (None, 6, 16, 16)         0         \n",
            "                                                                 \n",
            " conv2d_11 (Conv2D)          (None, 6, 16, 32)         4640      \n",
            "                                                                 \n",
            " max_pooling2d_11 (MaxPooli  (None, 3, 8, 32)          0         \n",
            " ng2D)                                                           \n",
            "                                                                 \n",
            " batch_normalization_11 (Ba  (None, 3, 8, 32)          128       \n",
            " tchNormalization)                                               \n",
            "                                                                 \n",
            " leaky_re_lu_13 (LeakyReLU)  (None, 3, 8, 32)          0         \n",
            "                                                                 \n",
            " flatten_2 (Flatten)         (None, 768)               0         \n",
            "                                                                 \n",
            " dense_4 (Dense)             (None, 128)               98432     \n",
            "                                                                 \n",
            " leaky_re_lu_14 (LeakyReLU)  (None, 128)               0         \n",
            "                                                                 \n",
            " dense_5 (Dense)             (None, 160)               20640     \n",
            "                                                                 \n",
            " reshape_2 (Reshape)         (None, 4, 8, 5)           0         \n",
            "                                                                 \n",
            "=================================================================\n",
            "Total params: 127568 (498.31 KB)\n",
            "Trainable params: 127424 (497.75 KB)\n",
            "Non-trainable params: 144 (576.00 Byte)\n",
            "_________________________________________________________________\n"
          ]
        }
      ]
    },
    {
      "cell_type": "code",
      "source": [
        "from sklearn.model_selection import train_test_split\n",
        "\n",
        "# Generate the training data\n",
        "num_samples = 10000\n",
        "X, y = create_training_data(num_samples)\n",
        "\n",
        "X_train, X_val, y_train, y_val = train_test_split(X, y, test_size=0.2, random_state=42)\n",
        "\n",
        "print(\"X_train shape:\", X_train.shape)\n",
        "print(\"y_train shape:\", y_train.shape)\n",
        "print(\"X_val shape:\", X_val.shape)\n",
        "print(\"y_val shape:\", y_val.shape)"
      ],
      "metadata": {
        "colab": {
          "base_uri": "https://localhost:8080/"
        },
        "id": "WUPdmNxwZRNn",
        "outputId": "d385bcff-5899-47b0-b001-891a6ae2e87a"
      },
      "execution_count": 4,
      "outputs": [
        {
          "output_type": "stream",
          "name": "stdout",
          "text": [
            "X_train shape: (8000, 48, 128, 1)\n",
            "y_train shape: (8000, 4, 8, 5)\n",
            "X_val shape: (2000, 48, 128, 1)\n",
            "y_val shape: (2000, 4, 8, 5)\n"
          ]
        }
      ]
    },
    {
      "cell_type": "code",
      "source": [
        "from tensorflow.keras.callbacks import EarlyStopping, ReduceLROnPlateau, ModelCheckpoint\n",
        "\n",
        "early_stopping = EarlyStopping(monitor='val_loss', patience=10, restore_best_weights=True)\n",
        "reduce_lr = ReduceLROnPlateau(monitor='val_loss', factor=0.5, patience=5, min_lr=1e-6)\n",
        "model_checkpoint = ModelCheckpoint('best_model.h5', monitor='val_loss', save_best_only=True)\n",
        "\n",
        "model = create_yolo_style_model()\n",
        "model.compile(optimizer='adam', loss=physics_informed_loss)\n",
        "\n",
        "history = model.fit(\n",
        "    X_train, y_train,\n",
        "    validation_data=(X_val, y_val),\n",
        "    epochs=100,\n",
        "    batch_size=32,\n",
        "    callbacks=[early_stopping, reduce_lr, model_checkpoint]\n",
        ")"
      ],
      "metadata": {
        "colab": {
          "base_uri": "https://localhost:8080/"
        },
        "id": "Rjj_-9_OZpqM",
        "outputId": "8c173775-137c-4a8f-e557-4de52a00e4e0"
      },
      "execution_count": 7,
      "outputs": [
        {
          "output_type": "stream",
          "name": "stdout",
          "text": [
            "Epoch 1/100\n",
            "250/250 [==============================] - 8s 9ms/step - loss: 1.1326 - val_loss: 3.4034 - lr: 0.0010\n",
            "Epoch 2/100\n",
            " 23/250 [=>............................] - ETA: 1s - loss: 0.4642"
          ]
        },
        {
          "output_type": "stream",
          "name": "stderr",
          "text": [
            "/usr/local/lib/python3.10/dist-packages/keras/src/engine/training.py:3103: UserWarning: You are saving your model as an HDF5 file via `model.save()`. This file format is considered legacy. We recommend using instead the native Keras format, e.g. `model.save('my_model.keras')`.\n",
            "  saving_api.save_model(\n"
          ]
        },
        {
          "output_type": "stream",
          "name": "stdout",
          "text": [
            "250/250 [==============================] - 1s 5ms/step - loss: 0.3832 - val_loss: 0.5522 - lr: 0.0010\n",
            "Epoch 3/100\n",
            "250/250 [==============================] - 1s 5ms/step - loss: 0.2569 - val_loss: 0.2907 - lr: 0.0010\n",
            "Epoch 4/100\n",
            "250/250 [==============================] - 1s 5ms/step - loss: 0.2145 - val_loss: 0.2905 - lr: 0.0010\n",
            "Epoch 5/100\n",
            "250/250 [==============================] - 1s 5ms/step - loss: 0.1931 - val_loss: 0.1955 - lr: 0.0010\n",
            "Epoch 6/100\n",
            "250/250 [==============================] - 1s 5ms/step - loss: 0.1796 - val_loss: 0.1786 - lr: 0.0010\n",
            "Epoch 7/100\n",
            "250/250 [==============================] - 1s 6ms/step - loss: 0.1710 - val_loss: 0.2116 - lr: 0.0010\n",
            "Epoch 8/100\n",
            "250/250 [==============================] - 1s 5ms/step - loss: 0.1593 - val_loss: 0.1983 - lr: 0.0010\n",
            "Epoch 9/100\n",
            "250/250 [==============================] - 1s 5ms/step - loss: 0.1593 - val_loss: 0.2570 - lr: 0.0010\n",
            "Epoch 10/100\n",
            "250/250 [==============================] - 1s 5ms/step - loss: 0.1550 - val_loss: 0.1726 - lr: 0.0010\n",
            "Epoch 11/100\n",
            "250/250 [==============================] - 1s 6ms/step - loss: 0.1406 - val_loss: 0.1664 - lr: 0.0010\n",
            "Epoch 12/100\n",
            "250/250 [==============================] - 1s 5ms/step - loss: 0.1418 - val_loss: 0.1661 - lr: 0.0010\n",
            "Epoch 13/100\n",
            "250/250 [==============================] - 1s 5ms/step - loss: 0.1341 - val_loss: 0.1789 - lr: 0.0010\n",
            "Epoch 14/100\n",
            "250/250 [==============================] - 1s 5ms/step - loss: 0.1312 - val_loss: 0.1397 - lr: 0.0010\n",
            "Epoch 15/100\n",
            "250/250 [==============================] - 1s 5ms/step - loss: 0.1308 - val_loss: 0.1514 - lr: 0.0010\n",
            "Epoch 16/100\n",
            "250/250 [==============================] - 1s 6ms/step - loss: 0.1221 - val_loss: 0.1516 - lr: 0.0010\n",
            "Epoch 17/100\n",
            "250/250 [==============================] - 1s 5ms/step - loss: 0.1184 - val_loss: 0.1557 - lr: 0.0010\n",
            "Epoch 18/100\n",
            "250/250 [==============================] - 1s 5ms/step - loss: 0.1224 - val_loss: 0.1649 - lr: 0.0010\n",
            "Epoch 19/100\n",
            "250/250 [==============================] - 1s 6ms/step - loss: 0.1110 - val_loss: 0.1300 - lr: 0.0010\n",
            "Epoch 20/100\n",
            "250/250 [==============================] - 1s 6ms/step - loss: 0.1127 - val_loss: 0.1291 - lr: 0.0010\n",
            "Epoch 21/100\n",
            "250/250 [==============================] - 1s 5ms/step - loss: 0.1074 - val_loss: 0.1602 - lr: 0.0010\n",
            "Epoch 22/100\n",
            "250/250 [==============================] - 1s 5ms/step - loss: 0.1058 - val_loss: 0.1294 - lr: 0.0010\n",
            "Epoch 23/100\n",
            "250/250 [==============================] - 1s 5ms/step - loss: 0.1070 - val_loss: 0.1347 - lr: 0.0010\n",
            "Epoch 24/100\n",
            "250/250 [==============================] - 1s 6ms/step - loss: 0.0985 - val_loss: 0.1332 - lr: 0.0010\n",
            "Epoch 25/100\n",
            "250/250 [==============================] - 1s 6ms/step - loss: 0.0998 - val_loss: 0.1274 - lr: 0.0010\n",
            "Epoch 26/100\n",
            "250/250 [==============================] - 1s 5ms/step - loss: 0.0953 - val_loss: 0.1318 - lr: 0.0010\n",
            "Epoch 27/100\n",
            "250/250 [==============================] - 1s 5ms/step - loss: 0.0952 - val_loss: 0.1472 - lr: 0.0010\n",
            "Epoch 28/100\n",
            "250/250 [==============================] - 1s 5ms/step - loss: 0.0988 - val_loss: 0.1322 - lr: 0.0010\n",
            "Epoch 29/100\n",
            "250/250 [==============================] - 1s 6ms/step - loss: 0.0919 - val_loss: 0.1188 - lr: 0.0010\n",
            "Epoch 30/100\n",
            "250/250 [==============================] - 1s 5ms/step - loss: 0.0888 - val_loss: 0.1343 - lr: 0.0010\n",
            "Epoch 31/100\n",
            "250/250 [==============================] - 1s 6ms/step - loss: 0.0926 - val_loss: 0.1345 - lr: 0.0010\n",
            "Epoch 32/100\n",
            "250/250 [==============================] - 1s 6ms/step - loss: 0.0876 - val_loss: 0.1465 - lr: 0.0010\n",
            "Epoch 33/100\n",
            "250/250 [==============================] - 1s 6ms/step - loss: 0.0865 - val_loss: 0.1357 - lr: 0.0010\n",
            "Epoch 34/100\n",
            "250/250 [==============================] - 1s 5ms/step - loss: 0.0855 - val_loss: 0.1852 - lr: 0.0010\n",
            "Epoch 35/100\n",
            "250/250 [==============================] - 1s 6ms/step - loss: 0.0724 - val_loss: 0.1105 - lr: 5.0000e-04\n",
            "Epoch 36/100\n",
            "250/250 [==============================] - 1s 5ms/step - loss: 0.0675 - val_loss: 0.1179 - lr: 5.0000e-04\n",
            "Epoch 37/100\n",
            "250/250 [==============================] - 1s 5ms/step - loss: 0.0666 - val_loss: 0.1229 - lr: 5.0000e-04\n",
            "Epoch 38/100\n",
            "250/250 [==============================] - 1s 5ms/step - loss: 0.0660 - val_loss: 0.1378 - lr: 5.0000e-04\n",
            "Epoch 39/100\n",
            "250/250 [==============================] - 1s 5ms/step - loss: 0.0659 - val_loss: 0.1521 - lr: 5.0000e-04\n",
            "Epoch 40/100\n",
            "250/250 [==============================] - 1s 5ms/step - loss: 0.0666 - val_loss: 0.1278 - lr: 5.0000e-04\n",
            "Epoch 41/100\n",
            "250/250 [==============================] - 1s 5ms/step - loss: 0.0591 - val_loss: 0.1116 - lr: 2.5000e-04\n",
            "Epoch 42/100\n",
            "250/250 [==============================] - 1s 6ms/step - loss: 0.0582 - val_loss: 0.1164 - lr: 2.5000e-04\n",
            "Epoch 43/100\n",
            "250/250 [==============================] - 1s 5ms/step - loss: 0.0571 - val_loss: 0.1125 - lr: 2.5000e-04\n",
            "Epoch 44/100\n",
            "250/250 [==============================] - 1s 5ms/step - loss: 0.0573 - val_loss: 0.1156 - lr: 2.5000e-04\n",
            "Epoch 45/100\n",
            "250/250 [==============================] - 1s 5ms/step - loss: 0.0580 - val_loss: 0.1099 - lr: 2.5000e-04\n",
            "Epoch 46/100\n",
            "250/250 [==============================] - 1s 5ms/step - loss: 0.0558 - val_loss: 0.1112 - lr: 2.5000e-04\n",
            "Epoch 47/100\n",
            "250/250 [==============================] - 1s 5ms/step - loss: 0.0564 - val_loss: 0.1178 - lr: 2.5000e-04\n",
            "Epoch 48/100\n",
            "250/250 [==============================] - 1s 5ms/step - loss: 0.0554 - val_loss: 0.1204 - lr: 2.5000e-04\n",
            "Epoch 49/100\n",
            "250/250 [==============================] - 1s 5ms/step - loss: 0.0557 - val_loss: 0.1163 - lr: 2.5000e-04\n",
            "Epoch 50/100\n",
            "250/250 [==============================] - 1s 6ms/step - loss: 0.0554 - val_loss: 0.1113 - lr: 2.5000e-04\n",
            "Epoch 51/100\n",
            "250/250 [==============================] - 1s 6ms/step - loss: 0.0513 - val_loss: 0.1148 - lr: 1.2500e-04\n",
            "Epoch 52/100\n",
            "250/250 [==============================] - 1s 5ms/step - loss: 0.0516 - val_loss: 0.1120 - lr: 1.2500e-04\n",
            "Epoch 53/100\n",
            "250/250 [==============================] - 1s 5ms/step - loss: 0.0506 - val_loss: 0.1100 - lr: 1.2500e-04\n",
            "Epoch 54/100\n",
            "250/250 [==============================] - 1s 5ms/step - loss: 0.0504 - val_loss: 0.1149 - lr: 1.2500e-04\n",
            "Epoch 55/100\n",
            "250/250 [==============================] - 1s 5ms/step - loss: 0.0503 - val_loss: 0.1118 - lr: 1.2500e-04\n"
          ]
        }
      ]
    },
    {
      "cell_type": "code",
      "source": [
        "import matplotlib.pyplot as plt\n",
        "\n",
        "# Load the best model\n",
        "model.load_weights('best_model.h5')\n",
        "\n",
        "# Evaluate on the validation set\n",
        "val_loss = model.evaluate(X_val, y_val)\n",
        "print(f'Validation Loss: {val_loss}')\n",
        "\n",
        "# Plot training history\n",
        "plt.plot(history.history['loss'], label='Train Loss')\n",
        "plt.plot(history.history['val_loss'], label='Validation Loss')\n",
        "plt.xlabel('Epochs')\n",
        "plt.ylabel('Loss')\n",
        "plt.legend()\n",
        "plt.show()"
      ],
      "metadata": {
        "colab": {
          "base_uri": "https://localhost:8080/",
          "height": 485
        },
        "id": "Z0A5859EaNh3",
        "outputId": "34685daf-74fb-403d-c342-b03440e78325"
      },
      "execution_count": 8,
      "outputs": [
        {
          "output_type": "stream",
          "name": "stdout",
          "text": [
            "63/63 [==============================] - 0s 2ms/step - loss: 0.1099\n",
            "Validation Loss: 0.10992862284183502\n"
          ]
        },
        {
          "output_type": "display_data",
          "data": {
            "text/plain": [
              "<Figure size 640x480 with 1 Axes>"
            ],
            "image/png": "[encoded data removed]"
          },
          "metadata": {}
        }
      ]
    },
    {
      "cell_type": "code",
      "source": [
        "import numpy as np\n",
        "import matplotlib.pyplot as plt\n",
        "\n",
        "def plot_gaussians_from_predictions(predictions, image_shape=(48, 128), threshold=0.1):\n",
        "    # Create an empty image\n",
        "    image = np.zeros(image_shape)\n",
        "\n",
        "    # Create a figure and axis\n",
        "    fig, ax = plt.subplots(figsize=(12, 6))\n",
        "\n",
        "    # Iterate over the predictions\n",
        "    for batch in range(predictions.shape[0]):  # Handle the batch dimension\n",
        "        for grid_x in range(predictions.shape[1]):\n",
        "            for grid_y in range(predictions.shape[2]):\n",
        "                meanx, meany, covx, covy, theta = predictions[batch, grid_x, grid_y]\n",
        "                meanx, meany = meanx * image_shape[1], meany * image_shape[0]\n",
        "\n",
        "                # Only plot if covx and covy are noticeably above 0\n",
        "                if covx > threshold and covy > threshold:\n",
        "                    # Generate Gaussian blob for this prediction\n",
        "                    blob = generate_blob(meanx, meany, covx, covy, theta, image_shape)\n",
        "\n",
        "                    # Add the blob to the image\n",
        "                    image += blob\n",
        "\n",
        "    # Display the image\n",
        "    ax.imshow(image, cmap='viridis', interpolation='none')\n",
        "    ax.set_title('Generated Gaussians from Predictions')\n",
        "    ax.axis('off')\n",
        "\n",
        "    plt.show()\n",
        "\n",
        "def generate_blob(meanx, meany, covx, covy, theta, shape):\n",
        "    height, width = shape\n",
        "    y, x = np.indices((height, width))\n",
        "\n",
        "    # Ensure x and y are floats\n",
        "    x = x.astype(float)\n",
        "    y = y.astype(float)\n",
        "\n",
        "    # Center the coordinates\n",
        "    x -= meanx\n",
        "    y -= meany\n",
        "\n",
        "    # Rotate the coordinates\n",
        "    x_rot = x * np.cos(theta) - y * np.sin(theta)\n",
        "    y_rot = x * np.sin(theta) + y * np.cos(theta)\n",
        "\n",
        "    # Create the Gaussian blob\n",
        "    blob = np.exp(-((x_rot**2) / (2 * covx**2) + (y_rot**2) / (2 * covy**2)))\n",
        "\n",
        "    # Normalize the blob\n",
        "    blob /= np.max(blob)\n",
        "\n",
        "    return blob"
      ],
      "metadata": {
        "id": "LOPOIrjV9tOU"
      },
      "execution_count": 56,
      "outputs": []
    },
    {
      "cell_type": "code",
      "source": [
        "X_test, y_test = create_training_data(1)\n",
        "y_pred = model.predict(X_test)\n",
        "\n",
        "print(y_pred.shape)\n",
        "\n",
        "# Visualize the first 5 examples\n",
        "plot_gaussians_from_predictions(y_pred, image_shape=(48, 128), threshold=0.1)"
      ],
      "metadata": {
        "colab": {
          "base_uri": "https://localhost:8080/",
          "height": 444
        },
        "id": "AhIni6Tpa06-",
        "outputId": "7cceac40-ea58-4d25-be53-0f2faa317738"
      },
      "execution_count": 62,
      "outputs": [
        {
          "output_type": "stream",
          "name": "stdout",
          "text": [
            "1/1 [==============================] - 0s 17ms/step\n",
            "(1, 4, 8, 5)\n"
          ]
        },
        {
          "output_type": "display_data",
          "data": {
            "text/plain": [
              "<Figure size 1200x600 with 1 Axes>"
            ],
            "image/png": "[encoded data removed]"
          },
          "metadata": {}
        }
      ]
    },
    {
      "cell_type": "code",
      "source": [
        "plot_gaussians_from_predictions(y_test, image_shape=(48, 128), threshold=0.1)"
      ],
      "metadata": {
        "colab": {
          "base_uri": "https://localhost:8080/",
          "height": 408
        },
        "id": "dJNmTHwM_htJ",
        "outputId": "0857b371-4731-4dce-d0d0-d9d3ba47584f"
      },
      "execution_count": 63,
      "outputs": [
        {
          "output_type": "display_data",
          "data": {
            "text/plain": [
              "<Figure size 1200x600 with 1 Axes>"
            ],
            "image/png": "[encoded data removed]"
          },
          "metadata": {}
        }
      ]
    }
  ]
}